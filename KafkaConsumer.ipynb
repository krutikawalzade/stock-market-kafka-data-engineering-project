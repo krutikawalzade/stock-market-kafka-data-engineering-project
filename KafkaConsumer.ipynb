{
  "metadata": {
    "kernelspec": {
      "name": "python",
      "display_name": "Python (Pyodide)",
      "language": "python"
    },
    "language_info": {
      "codemirror_mode": {
        "name": "python",
        "version": 3
      },
      "file_extension": ".py",
      "mimetype": "text/x-python",
      "name": "python",
      "nbconvert_exporter": "python",
      "pygments_lexer": "ipython3",
      "version": "3.8"
    }
  },
  "nbformat_minor": 4,
  "nbformat": 4,
  "cells": [
    {
      "cell_type": "code",
      "source": "from kafka import KafkaConsumer\nfrom time import sleep\nfrom json import dumps,loads\nimport json\nfrom s3fs import S3FileSystem",
      "metadata": {
        "trusted": true
      },
      "outputs": [],
      "execution_count": null
    },
    {
      "cell_type": "code",
      "source": "consumer = KafkaConsumer(\n    'demo_test',\n     bootstrap_servers=[':9092'], #add your IP here\n    value_deserializer=lambda x: loads(x.decode('utf-8')))",
      "metadata": {
        "trusted": true
      },
      "outputs": [],
      "execution_count": null
    },
    {
      "cell_type": "code",
      "source": "# for c in consumer:\n#     print(c.value)",
      "metadata": {
        "trusted": true
      },
      "outputs": [],
      "execution_count": 1
    },
    {
      "cell_type": "code",
      "source": "s3 = S3FileSystem()",
      "metadata": {
        "trusted": true
      },
      "outputs": [],
      "execution_count": null
    },
    {
      "cell_type": "markdown",
      "source": "for count, i in enumerate(consumer):\n    with s3.open(\"s3://kafka-stock-market-tutorial-youtube-darshil/stock_market_{}.json\".format(count), 'w') as file:\n        json.dump(i.value, file)    ",
      "metadata": {}
    }
  ]
}